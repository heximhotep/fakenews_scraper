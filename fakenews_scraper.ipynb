{
 "cells": [
  {
   "cell_type": "code",
   "execution_count": 18,
   "metadata": {},
   "outputs": [
    {
     "name": "stdout",
     "output_type": "stream",
     "text": [
      "[nltk_data] Downloading package punkt to\n",
      "[nltk_data]     C:\\Users\\Hex\\AppData\\Roaming\\nltk_data...\n",
      "[nltk_data]   Package punkt is already up-to-date!\n"
     ]
    },
    {
     "data": {
      "text/plain": [
       "True"
      ]
     },
     "execution_count": 18,
     "metadata": {},
     "output_type": "execute_result"
    }
   ],
   "source": [
    "import newspaper\n",
    "from newspaper import Article\n",
    "from newspaper import ArticleException\n",
    "import requests\n",
    "import nltk\n",
    "nltk.download('punkt')"
   ]
  },
  {
   "cell_type": "code",
   "execution_count": 19,
   "metadata": {},
   "outputs": [],
   "source": []
  },
  {
   "cell_type": "code",
   "execution_count": 20,
   "metadata": {},
   "outputs": [],
   "source": []
  },
  {
   "cell_type": "code",
   "execution_count": 21,
   "metadata": {},
   "outputs": [
    {
     "name": "stdout",
     "output_type": "stream",
     "text": [
      "0\n"
     ]
    }
   ],
   "source": [
    "print(root_paper.size())"
   ]
  },
  {
   "cell_type": "code",
   "execution_count": 22,
   "metadata": {},
   "outputs": [],
   "source": [
    "import json\n",
    "import os\n",
    "from datetime import datetime"
   ]
  },
  {
   "cell_type": "code",
   "execution_count": 64,
   "metadata": {},
   "outputs": [
    {
     "name": "stdout",
     "output_type": "stream",
     "text": [
      "C:\\Users\\Hex\\Documents\\2018_spring\\artml\\fakenews\n"
     ]
    }
   ],
   "source": [
    "print(os.getcwd())"
   ]
  },
  {
   "cell_type": "code",
   "execution_count": 61,
   "metadata": {},
   "outputs": [],
   "source": [
    "def articleName(author, title, date):\n",
    "    authorName = author\n",
    "    if (authorName == None):\n",
    "        authorName = 'NOAUTHOR'\n",
    "    else:\n",
    "        authorName = authorName.replace(' ', '_')\n",
    "        authorName = authorName.replace('?', '')\n",
    "    \n",
    "    titleName = title\n",
    "    if (titleName == None):\n",
    "        titleName = 'NOTITLE'\n",
    "    else:\n",
    "        titleName = titleName.replace(':', '_')\n",
    "        titleName = titleName.replace(';', '_')\n",
    "        titleName = titleName.replace(r'.,', '_')\n",
    "        titleName = titleName.replace(' ', '_')\n",
    "        titleName = titleName.replace('?', '')\n",
    "        titleName = titleName.replace('\"', \"'\")\n",
    "        titleName = titleName.replace('*', '')\n",
    "        titleName = titleName.replace('/', '_')\n",
    "        titleName = titleName.replace('|', '')\n",
    "        titleName = titleName.replace('$', '')\n",
    "        titleName = titleName.replace('^', '')\n",
    "        titleName = titleName.replace('>', '')\n",
    "        titleName = titleName.replace('<', '')\n",
    "        titleName = titleName.replace('=', '')\n",
    "    if (date == None):\n",
    "        dateName = 'NODATE'\n",
    "    else:\n",
    "        dateName = str(date.date())\n",
    "    delimiter = '$$$$$'\n",
    "    return authorName + delimiter + titleName + delimiter + dateName + '.json'"
   ]
  },
  {
   "cell_type": "code",
   "execution_count": 69,
   "metadata": {
    "scrolled": true
   },
   "outputs": [
    {
     "name": "stdout",
     "output_type": "stream",
     "text": [
      "https://www.mediamatters.org/networks-and-outlets/gateway-pundit size: 0\n",
      "[]\n",
      "0\n"
     ]
    }
   ],
   "source": [
    "root_urls = [\n",
    "    #\"http://scotusblog.com/\",\n",
    "    #\"http://eagnews.org/\",\n",
    "    #\"http://teaparty.org/\",\n",
    "    \"https://www.mediamatters.org/networks-and-outlets/gateway-pundit\"\n",
    "]\n",
    "for url in root_urls:\n",
    "    root_paper = newspaper.build(url)\n",
    "    print(url, 'size:', root_paper.size()) \n",
    "    index = 0\n",
    "    print(root_paper.articles)\n",
    "    #print(infowars_paper.category_urls())\n",
    "    for carticle in root_paper.articles:\n",
    "        article = Article(carticle.url)\n",
    "        try:\n",
    "            article.download()\n",
    "            article.parse()\n",
    "            article.nlp()\n",
    "            #print(article.summary)\n",
    "\n",
    "            payload = {\"url\": article.url, \"title\": article.title, \"content\": article.text}\n",
    "            r = requests.post(\"http://localhost:32772/fakebox/check\", data=payload)\n",
    "            news = r.json()\n",
    "            articleJSON = {\"features\":news, \"url\":article.url, \"date\":article.publish_date, \"title\":article.title, \"authors\":article.authors, \"body\":article.text}\n",
    "            with open(articleName(None if article.authors == [] else article.authors[0], article.title, article.publish_date), 'w') as outfile:\n",
    "                #print(articleJSON)\n",
    "                json.dump(articleJSON, outfile, indent=2, default=str)\n",
    "                print(\"saved article\")\n",
    "        except ArticleException:\n",
    "            continue\n",
    "        index += 1\n",
    "    print(index)\n",
    "        "
   ]
  },
  {
   "cell_type": "code",
   "execution_count": 66,
   "metadata": {},
   "outputs": [
    {
     "name": "stdout",
     "output_type": "stream",
     "text": [
      "C:\\Users\\Hex\\Documents\\2018_spring\\artml\\fakenews\n"
     ]
    }
   ],
   "source": [
    "print (os.getcwd())\n",
    "    "
   ]
  },
  {
   "cell_type": "code",
   "execution_count": null,
   "metadata": {},
   "outputs": [],
   "source": []
  }
 ],
 "metadata": {
  "kernelspec": {
   "display_name": "Python 3",
   "language": "python",
   "name": "python3"
  },
  "language_info": {
   "codemirror_mode": {
    "name": "ipython",
    "version": 3
   },
   "file_extension": ".py",
   "mimetype": "text/x-python",
   "name": "python",
   "nbconvert_exporter": "python",
   "pygments_lexer": "ipython3",
   "version": "3.6.4"
  }
 },
 "nbformat": 4,
 "nbformat_minor": 2
}
