{
 "cells": [
  {
   "cell_type": "code",
   "execution_count": 1,
   "metadata": {
    "collapsed": false
   },
   "outputs": [
    {
     "ename": "ModuleNotFoundError",
     "evalue": "No module named 'newspaper'",
     "output_type": "error",
     "traceback": [
      "\u001b[0;31m---------------------------------------------------------------------------\u001b[0m",
      "\u001b[0;31mModuleNotFoundError\u001b[0m                       Traceback (most recent call last)",
      "\u001b[0;32m<ipython-input-1-e5a93ed24892>\u001b[0m in \u001b[0;36m<module>\u001b[0;34m()\u001b[0m\n\u001b[0;32m----> 1\u001b[0;31m \u001b[1;32mimport\u001b[0m \u001b[0mnewspaper\u001b[0m\u001b[1;33m\u001b[0m\u001b[0m\n\u001b[0m\u001b[1;32m      2\u001b[0m \u001b[1;32mfrom\u001b[0m \u001b[0mnewspaper\u001b[0m \u001b[1;32mimport\u001b[0m \u001b[0mArticle\u001b[0m\u001b[1;33m\u001b[0m\u001b[0m\n\u001b[1;32m      3\u001b[0m \u001b[1;32mfrom\u001b[0m \u001b[0mnewspaper\u001b[0m \u001b[1;32mimport\u001b[0m \u001b[0mArticleException\u001b[0m\u001b[1;33m\u001b[0m\u001b[0m\n\u001b[1;32m      4\u001b[0m \u001b[1;32mimport\u001b[0m \u001b[0mrequests\u001b[0m\u001b[1;33m\u001b[0m\u001b[0m\n\u001b[1;32m      5\u001b[0m \u001b[1;32mimport\u001b[0m \u001b[0mnltk\u001b[0m\u001b[1;33m\u001b[0m\u001b[0m\n",
      "\u001b[0;31mModuleNotFoundError\u001b[0m: No module named 'newspaper'"
     ]
    }
   ],
   "source": [
    "import newspaper\n",
    "from newspaper import Article\n",
    "from newspaper import ArticleException\n",
    "import requests\n",
    "import nltk\n",
    "nltk.download('punkt')"
   ]
  },
  {
   "cell_type": "code",
   "execution_count": 19,
   "metadata": {
    "collapsed": true
   },
   "outputs": [],
   "source": []
  },
  {
   "cell_type": "code",
   "execution_count": 20,
   "metadata": {
    "collapsed": true
   },
   "outputs": [],
   "source": []
  },
  {
   "cell_type": "code",
   "execution_count": 21,
   "metadata": {
    "collapsed": false
   },
   "outputs": [
    {
     "name": "stdout",
     "output_type": "stream",
     "text": [
      "0\n"
     ]
    }
   ],
   "source": [
    "print(root_paper.size())"
   ]
  },
  {
   "cell_type": "code",
   "execution_count": 22,
   "metadata": {
    "collapsed": true
   },
   "outputs": [],
   "source": [
    "import json\n",
    "import os\n",
    "from datetime import datetime"
   ]
  },
  {
   "cell_type": "code",
   "execution_count": 64,
   "metadata": {
    "collapsed": false
   },
   "outputs": [
    {
     "name": "stdout",
     "output_type": "stream",
     "text": [
      "C:\\Users\\Hex\\Documents\\2018_spring\\artml\\fakenews\n"
     ]
    }
   ],
   "source": [
    "print(os.getcwd())"
   ]
  },
  {
   "cell_type": "code",
   "execution_count": 61,
   "metadata": {
    "collapsed": true
   },
   "outputs": [],
   "source": [
    "def articleName(author, title, date):\n",
    "    authorName = author\n",
    "    if (authorName == None):\n",
    "        authorName = 'NOAUTHOR'\n",
    "    else:\n",
    "        authorName = authorName.replace(' ', '_')\n",
    "        authorName = authorName.replace('?', '')\n",
    "    \n",
    "    titleName = title\n",
    "    if (titleName == None):\n",
    "        titleName = 'NOTITLE'\n",
    "    else:\n",
    "        titleName = titleName.replace(':', '_')\n",
    "        titleName = titleName.replace(';', '_')\n",
    "        titleName = titleName.replace(r'.,', '_')\n",
    "        titleName = titleName.replace(' ', '_')\n",
    "        titleName = titleName.replace('?', '')\n",
    "        titleName = titleName.replace('\"', \"'\")\n",
    "        titleName = titleName.replace('*', '')\n",
    "        titleName = titleName.replace('/', '_')\n",
    "        titleName = titleName.replace('|', '')\n",
    "        titleName = titleName.replace('$', '')\n",
    "        titleName = titleName.replace('^', '')\n",
    "        titleName = titleName.replace('>', '')\n",
    "        titleName = titleName.replace('<', '')\n",
    "        titleName = titleName.replace('=', '')\n",
    "    if (date == None):\n",
    "        dateName = 'NODATE'\n",
    "    else:\n",
    "        dateName = str(date.date())\n",
    "    delimiter = '$$$$$'\n",
    "    return authorName + delimiter + titleName + delimiter + dateName + '.json'"
   ]
  },
  {
   "cell_type": "code",
   "execution_count": 69,
   "metadata": {
    "collapsed": false,
    "scrolled": true
   },
   "outputs": [
    {
     "name": "stdout",
     "output_type": "stream",
     "text": [
      "https://www.mediamatters.org/networks-and-outlets/gateway-pundit size: 0\n",
      "[]\n",
      "0\n"
     ]
    }
   ],
   "source": [
    "root_urls = [\n",
    "    #\"http://scotusblog.com/\",\n",
    "    #\"http://eagnews.org/\",\n",
    "    #\"http://teaparty.org/\",\n",
    "    \"https://www.mediamatters.org/networks-and-outlets/gateway-pundit\"\n",
    "]\n",
    "for url in root_urls:\n",
    "    root_paper = newspaper.build(url)\n",
    "    print(url, 'size:', root_paper.size()) \n",
    "    index = 0\n",
    "    print(root_paper.articles)\n",
    "    #print(infowars_paper.category_urls())\n",
    "    for carticle in root_paper.articles:\n",
    "        article = Article(carticle.url)\n",
    "        try:\n",
    "            article.download()\n",
    "            article.parse()\n",
    "            article.nlp()\n",
    "                        \n",
    "            #print(article.summary)\n",
    "            features = {\"content\" : {\"keywords\": [{\"keyword\": word} for word in article.keywords]}}\n",
    "            articleJSON = {\"features\":features, \"url\":article.url, \"date\":article.publish_date, \"title\":article.title, \"authors\":article.authors, \"body\":article.text}\n",
    "\n",
    "            #payload = {\"url\": article.url, \"title\": article.title, \"content\": article.text}\n",
    "            #r = requests.post(\"http://localhost:32772/fakebox/check\", data=payload)\n",
    "            #news = r.json()\n",
    "            #articleJSON = {\"features\":news, \"url\":article.url, \"date\":article.publish_date, \"title\":article.title, \"authors\":article.authors, \"body\":article.text}\n",
    "            with open(articleName(None if article.authors == [] else article.authors[0], article.title, article.publish_date), 'w') as outfile:\n",
    "                #print(articleJSON)\n",
    "                json.dump(articleJSON, outfile, indent=2, default=str)\n",
    "                print(\"saved article\")\n",
    "        except ArticleException:\n",
    "            continue\n",
    "        index += 1\n",
    "    print(index)\n",
    "        "
   ]
  },
  {
   "cell_type": "code",
   "execution_count": 66,
   "metadata": {
    "collapsed": false
   },
   "outputs": [
    {
     "name": "stdout",
     "output_type": "stream",
     "text": [
      "C:\\Users\\Hex\\Documents\\2018_spring\\artml\\fakenews\n"
     ]
    }
   ],
   "source": [
    "print (os.getcwd())\n",
    "    "
   ]
  },
  {
   "cell_type": "code",
   "execution_count": null,
   "metadata": {
    "collapsed": true
   },
   "outputs": [],
   "source": []
  }
 ],
 "metadata": {
  "kernelspec": {
   "display_name": "Python 3",
   "language": "python",
   "name": "python3"
  }
 },
 "nbformat": 4,
 "nbformat_minor": 2
}
